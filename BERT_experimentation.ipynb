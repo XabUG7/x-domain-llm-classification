{
 "cells": [
  {
   "cell_type": "code",
   "execution_count": 1,
   "id": "c2545798-6c6b-4cea-8576-2fdb02b21858",
   "metadata": {},
   "outputs": [
    {
     "name": "stderr",
     "output_type": "stream",
     "text": [
      "/Users/aaronrdankert/projects/x-domain-llm-classification/.venv/lib/python3.12/site-packages/tqdm/auto.py:21: TqdmWarning: IProgress not found. Please update jupyter and ipywidgets. See https://ipywidgets.readthedocs.io/en/stable/user_install.html\n",
      "  from .autonotebook import tqdm as notebook_tqdm\n",
      "None of PyTorch, TensorFlow >= 2.0, or Flax have been found. Models won't be available and only tokenizers, configuration and file/data utilities can be used.\n"
     ]
    },
    {
     "ename": "ModuleNotFoundError",
     "evalue": "No module named 'torch'",
     "output_type": "error",
     "traceback": [
      "\u001b[0;31m---------------------------------------------------------------------------\u001b[0m",
      "\u001b[0;31mModuleNotFoundError\u001b[0m                       Traceback (most recent call last)",
      "Cell \u001b[0;32mIn[1], line 5\u001b[0m\n\u001b[1;32m      3\u001b[0m \u001b[38;5;28;01mfrom\u001b[39;00m \u001b[38;5;21;01mtransformers\u001b[39;00m \u001b[38;5;28;01mimport\u001b[39;00m BertTokenizer, BertModel\n\u001b[1;32m      4\u001b[0m \u001b[38;5;28;01mfrom\u001b[39;00m \u001b[38;5;21;01mtqdm\u001b[39;00m \u001b[38;5;28;01mimport\u001b[39;00m tqdm\n\u001b[0;32m----> 5\u001b[0m \u001b[38;5;28;01mimport\u001b[39;00m \u001b[38;5;21;01mtorch\u001b[39;00m\n\u001b[1;32m      6\u001b[0m \u001b[38;5;28;01mimport\u001b[39;00m \u001b[38;5;21;01mpickle\u001b[39;00m\n",
      "\u001b[0;31mModuleNotFoundError\u001b[0m: No module named 'torch'"
     ]
    }
   ],
   "source": [
    "#import dependencies\n",
    "import pandas as pd\n",
    "from transformers import BertTokenizer, BertModel\n",
    "from tqdm import tqdm\n",
    "import torch\n",
    "import pickle"
   ]
  },
  {
   "cell_type": "code",
   "execution_count": 2,
   "id": "a0ba8cd3-3dff-49ea-bb1c-18081feb3bba",
   "metadata": {},
   "outputs": [],
   "source": [
    "tokenizer = BertTokenizer.from_pretrained('bert-base-uncased')\n",
    "model = BertModel.from_pretrained('bert-base-uncased')"
   ]
  },
  {
   "cell_type": "code",
   "execution_count": 3,
   "id": "b3810c6e-94cc-4015-b35b-c39503968e9d",
   "metadata": {},
   "outputs": [],
   "source": [
    "#load the prompt data\n",
    "model_df = pd.read_csv('final_data.csv')\n",
    "#drop the first column because it saved with an index column\n",
    "model_df = model_df.drop(model_df.columns[0], axis = 1)"
   ]
  },
  {
   "cell_type": "code",
   "execution_count": null,
   "id": "2ba67969-16a2-4dd8-90cb-7c3a49bb58f3",
   "metadata": {},
   "outputs": [
    {
     "name": "stderr",
     "output_type": "stream",
     "text": [
      " 89%|█████████████████████████████████████████████████████████████████▊        | 13022/14637 [1:38:18<14:28,  1.86it/s]"
     ]
    }
   ],
   "source": [
    "#create lists to hold the embeddings for dumping into a pkl file\n",
    "tokens_emb = []\n",
    "cls_emb = []\n",
    "\n",
    "#iterate through each prompt to generate the embeddings\n",
    "for i in tqdm(range(len(model_df))):\n",
    "    row = model_df.iloc[i]\n",
    "    text = row['response_text']\n",
    "\n",
    "    #send response_text to tokenizer\n",
    "    inputs = tokenizer(text, return_tensors='pt', padding=True, truncation=True)\n",
    "\n",
    "    #unpack the tensors\n",
    "    with torch.no_grad():\n",
    "        outputs = model(**inputs)\n",
    "    token_embeddings = outputs[0]\n",
    "    cls_embedding = outputs[1]\n",
    "\n",
    "    #store in their respective lists\n",
    "    tokens_emb.append(token_embeddings)\n",
    "    cls_emb.append(cls_embedding)\n",
    "    "
   ]
  },
  {
   "cell_type": "code",
   "execution_count": null,
   "id": "751f0af0-4ec2-446c-96da-c19164c19241",
   "metadata": {},
   "outputs": [],
   "source": [
    "#write to pkl files\n",
    "#with open(\"tokens_emb.pkl\", \"wb\") as f:\n",
    "   # pickle.dump(tokens_emb, f)\n",
    "with open(\"cls_emb.pkl\", \"wb\") as f:\n",
    "    pickle.dump(cls_emb, f)"
   ]
  },
  {
   "cell_type": "code",
   "execution_count": null,
   "id": "85347033-9856-466e-9e57-87a095194b9e",
   "metadata": {},
   "outputs": [],
   "source": []
  }
 ],
 "metadata": {
  "kernelspec": {
   "display_name": ".venv",
   "language": "python",
   "name": "python3"
  },
  "language_info": {
   "codemirror_mode": {
    "name": "ipython",
    "version": 3
   },
   "file_extension": ".py",
   "mimetype": "text/x-python",
   "name": "python",
   "nbconvert_exporter": "python",
   "pygments_lexer": "ipython3",
   "version": "3.12.6"
  }
 },
 "nbformat": 4,
 "nbformat_minor": 5
}
