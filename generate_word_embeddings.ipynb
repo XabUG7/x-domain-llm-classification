{
 "cells": [
  {
   "cell_type": "code",
   "execution_count": 1,
   "id": "3721305e-ca8e-42c9-8e84-e20fe79162be",
   "metadata": {},
   "outputs": [
    {
     "name": "stderr",
     "output_type": "stream",
     "text": [
      "100%|██████████████████████████████████████████████████████████████████████████| 14637/14637 [2:21:56<00:00,  1.72it/s]\n"
     ]
    }
   ],
   "source": [
    "# takes LLM generated text and generates word embeddings from the BERT model, then writes to a pkl file\n",
    "# import dependencies\n",
    "import pandas as pd\n",
    "from transformers import BertTokenizer, BertModel\n",
    "from tqdm import tqdm\n",
    "import torch\n",
    "import pickle\n",
    "\n",
    "tokenizer = BertTokenizer.from_pretrained('bert-base-uncased')\n",
    "model = BertModel.from_pretrained('bert-base-uncased')\n",
    "\n",
    "# load the prompt data\n",
    "model_df = pd.read_csv('final_data.csv')\n",
    "\n",
    "# drop the first column because it saved with an index column\n",
    "model_df = model_df.drop(model_df.columns[0], axis=1)\n",
    "\n",
    "# create lists to hold the embeddings for dumping into a pkl file\n",
    "tokens_emb = []\n",
    "cls_emb = []\n",
    "\n",
    "# iterate through each prompt to generate the embeddings\n",
    "for i in tqdm(range(len(model_df))):\n",
    "    row = model_df.iloc[i]\n",
    "    text = row['response_text']\n",
    "\n",
    "    # send response_text to tokenizer\n",
    "    inputs = tokenizer(text, return_tensors='pt', padding=True, truncation=True)\n",
    "\n",
    "    # unpack the tensors\n",
    "    with torch.no_grad():\n",
    "        outputs = model(**inputs)\n",
    "    token_embeddings = outputs[0]\n",
    "    cls_embedding = outputs[1]\n",
    "\n",
    "    # store in their respective lists\n",
    "    tokens_emb.append(token_embeddings)\n",
    "    cls_emb.append(cls_embedding)\n",
    "\n",
    "# write to pkl files\n",
    "with open(\"tokens_emb.pkl\", \"wb\") as f:\n",
    "    pickle.dump(tokens_emb, f)\n",
    "with open(\"cls_emb.pkl\", \"wb\") as f:\n",
    "    pickle.dump(cls_emb, f)"
   ]
  }
 ],
 "metadata": {
  "kernelspec": {
   "display_name": "Python 3 (ipykernel)",
   "language": "python",
   "name": "python3"
  },
  "language_info": {
   "codemirror_mode": {
    "name": "ipython",
    "version": 3
   },
   "file_extension": ".py",
   "mimetype": "text/x-python",
   "name": "python",
   "nbconvert_exporter": "python",
   "pygments_lexer": "ipython3",
   "version": "3.11.8"
  }
 },
 "nbformat": 4,
 "nbformat_minor": 5
}
