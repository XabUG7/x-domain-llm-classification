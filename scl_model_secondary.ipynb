{
 "cells": [
  {
   "cell_type": "code",
   "execution_count": 1,
   "id": "4407368a-2d64-475f-b906-527d05c88a80",
   "metadata": {},
   "outputs": [],
   "source": [
    "import torch\n",
    "import torch.nn as nn\n",
    "from torch.nn import Linear\n",
    "import torch.nn.functional as F\n",
    "import pickle\n",
    "from tqdm import tqdm\n",
    "from torch.utils.data import Dataset, DataLoader\n",
    "from sklearn.model_selection import train_test_split\n",
    "from pytorch_metric_learning.losses import NTXentLoss\n",
    "import pandas as pd\n",
    "import numpy as np"
   ]
  },
  {
   "cell_type": "code",
   "execution_count": 2,
   "id": "b29cfe03-c329-4e9b-b3c7-dfe82fa57f04",
   "metadata": {},
   "outputs": [],
   "source": [
    "with open('cls_emb.pkl', 'rb') as f:\n",
    "    cls = pickle.load(f)\n",
    "with open('feature_vectors.pkl', 'rb')as f:\n",
    "    feature_vectors= pickle.load(f)"
   ]
  },
  {
   "cell_type": "code",
   "execution_count": 3,
   "id": "f1194a9a-fa95-4076-9047-94d14d2e4c1b",
   "metadata": {},
   "outputs": [
    {
     "data": {
      "text/plain": [
       "torch.Size([1, 768])"
      ]
     },
     "execution_count": 3,
     "metadata": {},
     "output_type": "execute_result"
    }
   ],
   "source": [
    "cls[0].size()"
   ]
  },
  {
   "cell_type": "code",
   "execution_count": 4,
   "id": "c2a0b872-1ef6-4c21-98d9-38541d968211",
   "metadata": {},
   "outputs": [],
   "source": [
    "response_df = pd.read_csv('final_data.csv')\n",
    "map_dict = {'llama3.1-70b':0, 'mistral':1, 'gpt-4o-2024-05-13':2}\n",
    "response_df['model_nums'] = response_df['model'].map(map_dict)"
   ]
  },
  {
   "cell_type": "code",
   "execution_count": 5,
   "id": "928db930-1efe-410a-a3b4-691ced778826",
   "metadata": {},
   "outputs": [],
   "source": [
    "embeddings = [torch.cat((cls[i].float(), torch.from_numpy(feature_vectors[i]).unsqueeze(0).float()), dim=1) for i in range(len(cls))]"
   ]
  },
  {
   "cell_type": "code",
   "execution_count": 6,
   "id": "7cb05e48-b291-4de9-a164-b3360f7ed5bd",
   "metadata": {},
   "outputs": [],
   "source": [
    "def extract_and_split(response_df, embeddings, temperature):\n",
    "    temp_idx = response_df[response_df['temperature'] == temperature].index\n",
    "    temp_embs = [embeddings[idx] for idx in temp_idx]\n",
    "    temp_targs = [response_df['model_nums'][idx] for idx in temp_idx]\n",
    "    \n",
    "    return train_test_split(temp_embs, temp_targs, test_size=0.1, random_state=42)\n",
    "    \n",
    "temp_0_train, temp_0_test, temp_0_targs_train, temp_0_targs_test = extract_and_split(response_df, embeddings, 0)\n",
    "temp_7_train, temp_7_test, temp_7_targs_train, temp_7_targs_test = extract_and_split(response_df, embeddings, 0.7)\n",
    "temp_14_train, temp_14_test, temp_14_targs_train, temp_14_targs_test = extract_and_split(response_df, embeddings, 1.4)\n",
    "temp_all_train, temp_all_test, temp_all_targs_train, temp_all_targs_test = train_test_split(embeddings, response_df['model_nums'], \n",
    "                                                                                            test_size=0.1, random_state=42)"
   ]
  },
  {
   "cell_type": "code",
   "execution_count": 7,
   "id": "63705575-6ec2-4d28-b3e4-1f45c0226f87",
   "metadata": {},
   "outputs": [],
   "source": [
    "class FAM(nn.Module):\n",
    "    def __init__(self, embed_size, hidden_size, hidden_dropout_prob):\n",
    "        super().__init__()\n",
    "        self.dropout = nn.Dropout(hidden_dropout_prob)\n",
    "        self.fc = nn.Linear(embed_size, hidden_size)\n",
    "        \n",
    "    def init_weights(self):\n",
    "        initrange = 0.2\n",
    "        self.fc.weight.data.uniform_(-initrange, initrange)\n",
    "        self.fc.bias.data.zero_()\n",
    "\n",
    "\n",
    "    def forward(self, text):\n",
    "        batch,  dim = text.size()\n",
    "        feat = self.fc(torch.tanh(self.dropout(text.view(batch, dim))))\n",
    "        feat = F.normalize(feat, dim=1)\n",
    "        return feat"
   ]
  },
  {
   "cell_type": "code",
   "execution_count": 8,
   "id": "1bd52bf4-0134-4e2d-9d0f-5b2db6c63d3b",
   "metadata": {},
   "outputs": [],
   "source": [
    "class Projection(nn.Module):\n",
    "    def __init__(self, hidden_size, projection_size):\n",
    "        super().__init__()\n",
    "        self.fc = nn.Linear(hidden_size, projection_size)\n",
    "        self.ln = nn.LayerNorm(projection_size)\n",
    "        self.bn = nn.BatchNorm1d(projection_size)\n",
    "        self.init_weights()\n",
    "    def init_weights(self):\n",
    "        initrange = 0.01\n",
    "        self.fc.weight.data.uniform_(-initrange, initrange)\n",
    "        self.fc.bias.data.zero_()\n",
    "\n",
    "\n",
    "    def forward(self, text):\n",
    "        batch,  dim = text.size()\n",
    "        return self.ln(self.fc(torch.tanh(text.view(batch, dim))))"
   ]
  },
  {
   "cell_type": "code",
   "execution_count": 30,
   "id": "9ee1f5b4-904a-4b3f-92cb-99dda016097f",
   "metadata": {},
   "outputs": [],
   "source": [
    "class SupConLoss(nn.Module):\n",
    "    def __init__(self, temperature=0.07):\n",
    "        \"\"\"\n",
    "        Implementation of the loss described in the paper Supervised Contrastive Learning :\n",
    "        https://arxiv.org/abs/2004.11362\n",
    "\n",
    "        :param temperature: int\n",
    "        \"\"\"\n",
    "        super(SupConLoss, self).__init__()\n",
    "        self.temperature = temperature\n",
    "\n",
    "    def forward(self, projections, targets):\n",
    "        \"\"\"\n",
    "\n",
    "        :param projections: torch.Tensor, shape [batch_size, projection_dim]\n",
    "        :param targets: torch.Tensor, shape [batch_size]\n",
    "        :return: torch.Tensor, scalar\n",
    "        \"\"\"\n",
    "        device = torch.device(\"cuda\") if projections.is_cuda else torch.device(\"cpu\")\n",
    "\n",
    "        dot_product_tempered = torch.mm(projections, projections.T) / self.temperature\n",
    "        # Minus max for numerical stability with exponential. Same done in cross entropy. Epsilon added to avoid log(0)\n",
    "        exp_dot_tempered = (\n",
    "            torch.exp(dot_product_tempered - torch.max(dot_product_tempered, dim=1, keepdim=True)[0]) + 1e-5\n",
    "        )\n",
    "\n",
    "        mask_similar_class = (targets.unsqueeze(1).repeat(1, targets.shape[0]) == targets).to(device)\n",
    "        mask_anchor_out = (1 - torch.eye(exp_dot_tempered.shape[0])).to(device)\n",
    "        mask_combined = mask_similar_class * mask_anchor_out\n",
    "        cardinality_per_samples = torch.sum(mask_combined, dim=1)\n",
    "\n",
    "        log_prob = -torch.log(exp_dot_tempered / (torch.sum(exp_dot_tempered * mask_anchor_out, dim=1, keepdim=True)))\n",
    "        supervised_contrastive_loss_per_sample = torch.sum(log_prob * mask_combined, dim=1) / cardinality_per_samples\n",
    "        supervised_contrastive_loss = torch.mean(supervised_contrastive_loss_per_sample)\n",
    "\n",
    "        return supervised_contrastive_loss"
   ]
  },
  {
   "cell_type": "code",
   "execution_count": 10,
   "id": "6bc98701-4433-49ab-9760-763b214973d2",
   "metadata": {},
   "outputs": [],
   "source": [
    "class Classifier(nn.Module):\n",
    "    def __init__(self, hidden_size, num_class, hidden_dropout_prob):\n",
    "        super().__init__()\n",
    "        self.dropout = nn.Dropout(hidden_dropout_prob)\n",
    "        self.fc = nn.Linear(hidden_size, num_class)\n",
    "        self.init_weights()\n",
    "\n",
    "    def init_weights(self):\n",
    "        initrange = 0.02\n",
    "        self.fc.weight.data.uniform_(-initrange, initrange)\n",
    "        self.fc.bias.data.zero_()\n",
    "\n",
    "    def forward(self, feature):\n",
    "        return self.fc(torch.tanh(feature))"
   ]
  },
  {
   "cell_type": "code",
   "execution_count": 11,
   "id": "83d8db8b-6f5d-43b6-8637-7e0da9755196",
   "metadata": {},
   "outputs": [],
   "source": [
    "class WordEmbeddingDataset(Dataset):\n",
    "    def __init__(self, cls_embs, targs):\n",
    "        self.cls_embs = cls_embs\n",
    "        self.targs = targs \n",
    "\n",
    "    def __len__(self):\n",
    "        return len(self.cls_embs)\n",
    "\n",
    "    def __getitem__(self, idx):\n",
    "        return self.cls_embs[idx], self.targs[idx]"
   ]
  },
  {
   "cell_type": "code",
   "execution_count": 12,
   "id": "7c91b276-e20c-438c-bf94-3c4dbdd3c1d9",
   "metadata": {},
   "outputs": [],
   "source": [
    "BATCH_SIZE = 100\n",
    "dataset_0 = WordEmbeddingDataset(temp_0_train, temp_0_targs_train)\n",
    "dataset_0_test = WordEmbeddingDataset(temp_0_test, temp_0_targs_test)\n",
    "\n",
    "dataset_7 =  WordEmbeddingDataset(temp_7_train, temp_7_targs_train)\n",
    "dataset_7_test = WordEmbeddingDataset(temp_7_test, temp_7_targs_test)\n",
    "\n",
    "dataset_14 = WordEmbeddingDataset(temp_14_train, temp_14_targs_train)\n",
    "dataset_14_test = WordEmbeddingDataset(temp_14_test, temp_14_targs_test)\n",
    "\n",
    "dataset_all = WordEmbeddingDataset(temp_all_train, temp_all_targs_train)\n",
    "dataset_all_test = WordEmbeddingDataset(temp_all_test, temp_all_targs_test)\n",
    "\n",
    "data_loader_0 = DataLoader(dataset_0, batch_size=BATCH_SIZE, shuffle=True, drop_last=True)\n",
    "data_loader_0_test = DataLoader(dataset_0_test, batch_size=BATCH_SIZE, shuffle=True, drop_last=True)\n",
    "\n",
    "data_loader_7 = DataLoader(dataset_7, batch_size=BATCH_SIZE, shuffle=True, drop_last=True)\n",
    "data_loader_7_test = DataLoader(dataset_7_test, batch_size=BATCH_SIZE, shuffle=True, drop_last=True)\n",
    "\n",
    "data_loader_14 = DataLoader(dataset_14, batch_size=BATCH_SIZE, shuffle=True, drop_last=True)\n",
    "data_loader_14_test = DataLoader(dataset_14_test, batch_size=BATCH_SIZE, shuffle=True, drop_last=True)\n",
    "\n",
    "data_loader_all = DataLoader(dataset_all, batch_size=BATCH_SIZE, shuffle=True, drop_last=True)\n",
    "data_loader_all_test = DataLoader(dataset_all_test, batch_size=BATCH_SIZE, shuffle=True, drop_last=True)"
   ]
  },
  {
   "cell_type": "code",
   "execution_count": 32,
   "id": "5360c31d-5170-4649-a1c8-962234458f57",
   "metadata": {},
   "outputs": [],
   "source": [
    "def train(fa_module, proj_module, supconloss_module, classifier, data_loader, optimizer, classifier_loss_fn):\n",
    "    fa_module.train()\n",
    "    proj_module.train()\n",
    "    supconloss_module.train()\n",
    "    classifier.train()\n",
    "\n",
    "    batch_acc_cumulative = 0\n",
    "    n_batches = 0\n",
    "    train_loss = 0\n",
    "\n",
    "    for _, data in tqdm(enumerate(data_loader)):\n",
    "        n_batches += 1\n",
    "        optimizer.zero_grad()\n",
    "\n",
    "        \n",
    "        cls_embs = data[0].squeeze(1)  # Assuming BERT CLS embeddings\n",
    "        targets = data[1]\n",
    "        \n",
    "        fam_output = fa_module(cls_embs)   \n",
    "        proj_output = proj_module(fam_output)\n",
    "        supcon_loss = supconloss_module(proj_output, targets)\n",
    "        classifier_output = classifier(fam_output)  \n",
    "        classifier_loss = classifier_loss_fn(classifier_output, targets)\n",
    "\n",
    "        loss = supcon_loss + classifier_loss \n",
    "\n",
    "        loss.backward()   # Backpropagate the combined loss\n",
    "        optimizer.step()  # Update the model parameters\n",
    "\n",
    "        \n",
    "        train_loss += loss.item()\n",
    "\n",
    "        \n",
    "        batch_predictions = classifier_output.argmax(1)\n",
    "        batch_acc = (batch_predictions == targets).sum().item() / len(targets)\n",
    "        batch_acc_cumulative += batch_acc\n",
    "\n",
    "    \n",
    "    average_acc = batch_acc_cumulative / n_batches\n",
    "    average_loss = train_loss / n_batches\n",
    "\n",
    "    print(f'Average Accuracy: {average_acc * 100:.2f}%')\n",
    "\n",
    "    return average_loss, average_acc"
   ]
  },
  {
   "cell_type": "code",
   "execution_count": 45,
   "id": "d8090575-dc20-4bb2-8897-8805cce71d37",
   "metadata": {},
   "outputs": [],
   "source": [
    "def evaluate(fa_module, classifier, data_loader):\n",
    "    fa_module.eval()  \n",
    "    classifier.eval()\n",
    "    \n",
    "    correct = 0\n",
    "    total = 0\n",
    "    with torch.no_grad():  \n",
    "        for data in data_loader:\n",
    "            cls_embs = data[0].squeeze(1)  \n",
    "            targets = data[1].tolist()\n",
    "            \n",
    "            # Forward pass through FAM\n",
    "            fam_output = fa_module(cls_embs)\n",
    "            \n",
    "            # Forward pass through Classifier\n",
    "            final_output = classifier(fam_output)\n",
    "            \n",
    "            # Get predictions\n",
    "            preds = final_output.argmax(1).tolist()\n",
    "            \n",
    "            total += len(preds) \n",
    "            correct += np.sum(np.array(preds) == np.array(targets))  # Count how many predictions are correct\n",
    "\n",
    "    accuracy = correct / total if total > 0 else 0  # Avoid division by zero\n",
    "    print(f'Test Accuracy: {accuracy:.4f}')\n",
    "    return accuracy"
   ]
  },
  {
   "cell_type": "code",
   "execution_count": 46,
   "id": "750e41d0-dafd-44ca-b4b8-77d333d6bd74",
   "metadata": {},
   "outputs": [
    {
     "name": "stderr",
     "output_type": "stream",
     "text": [
      "43it [00:00, 146.51it/s]\n"
     ]
    },
    {
     "name": "stdout",
     "output_type": "stream",
     "text": [
      "Average Accuracy: 36.67%\n",
      "Epoch 1, Loss: 5.6896\n"
     ]
    },
    {
     "name": "stderr",
     "output_type": "stream",
     "text": [
      "43it [00:00, 151.63it/s]\n"
     ]
    },
    {
     "name": "stdout",
     "output_type": "stream",
     "text": [
      "Average Accuracy: 39.58%\n",
      "Epoch 2, Loss: 5.6754\n"
     ]
    },
    {
     "name": "stderr",
     "output_type": "stream",
     "text": [
      "43it [00:00, 158.62it/s]\n"
     ]
    },
    {
     "name": "stdout",
     "output_type": "stream",
     "text": [
      "Average Accuracy: 42.16%\n",
      "Epoch 3, Loss: 5.6580\n"
     ]
    },
    {
     "name": "stderr",
     "output_type": "stream",
     "text": [
      "43it [00:00, 166.28it/s]\n"
     ]
    },
    {
     "name": "stdout",
     "output_type": "stream",
     "text": [
      "Average Accuracy: 45.16%\n",
      "Epoch 4, Loss: 5.6342\n"
     ]
    },
    {
     "name": "stderr",
     "output_type": "stream",
     "text": [
      "43it [00:00, 154.07it/s]\n"
     ]
    },
    {
     "name": "stdout",
     "output_type": "stream",
     "text": [
      "Average Accuracy: 46.51%\n",
      "Epoch 5, Loss: 5.6217\n"
     ]
    },
    {
     "name": "stderr",
     "output_type": "stream",
     "text": [
      "43it [00:00, 144.84it/s]\n"
     ]
    },
    {
     "name": "stdout",
     "output_type": "stream",
     "text": [
      "Average Accuracy: 47.23%\n",
      "Epoch 6, Loss: 5.6184\n"
     ]
    },
    {
     "name": "stderr",
     "output_type": "stream",
     "text": [
      "43it [00:00, 168.32it/s]\n"
     ]
    },
    {
     "name": "stdout",
     "output_type": "stream",
     "text": [
      "Average Accuracy: 49.07%\n",
      "Epoch 7, Loss: 5.6079\n"
     ]
    },
    {
     "name": "stderr",
     "output_type": "stream",
     "text": [
      "43it [00:00, 165.09it/s]\n"
     ]
    },
    {
     "name": "stdout",
     "output_type": "stream",
     "text": [
      "Average Accuracy: 48.93%\n",
      "Epoch 8, Loss: 5.6061\n"
     ]
    },
    {
     "name": "stderr",
     "output_type": "stream",
     "text": [
      "43it [00:00, 168.26it/s]\n"
     ]
    },
    {
     "name": "stdout",
     "output_type": "stream",
     "text": [
      "Average Accuracy: 47.51%\n",
      "Epoch 9, Loss: 5.6188\n"
     ]
    },
    {
     "name": "stderr",
     "output_type": "stream",
     "text": [
      "43it [00:00, 144.77it/s]\n"
     ]
    },
    {
     "name": "stdout",
     "output_type": "stream",
     "text": [
      "Average Accuracy: 48.56%\n",
      "Epoch 10, Loss: 5.6103\n"
     ]
    },
    {
     "name": "stderr",
     "output_type": "stream",
     "text": [
      "43it [00:00, 149.00it/s]\n"
     ]
    },
    {
     "name": "stdout",
     "output_type": "stream",
     "text": [
      "Average Accuracy: 49.95%\n",
      "Epoch 11, Loss: 5.5932\n"
     ]
    },
    {
     "name": "stderr",
     "output_type": "stream",
     "text": [
      "43it [00:00, 148.81it/s]\n"
     ]
    },
    {
     "name": "stdout",
     "output_type": "stream",
     "text": [
      "Average Accuracy: 47.44%\n",
      "Epoch 12, Loss: 5.6063\n"
     ]
    },
    {
     "name": "stderr",
     "output_type": "stream",
     "text": [
      "43it [00:00, 162.52it/s]\n"
     ]
    },
    {
     "name": "stdout",
     "output_type": "stream",
     "text": [
      "Average Accuracy: 48.49%\n",
      "Epoch 13, Loss: 5.6014\n"
     ]
    },
    {
     "name": "stderr",
     "output_type": "stream",
     "text": [
      "43it [00:00, 150.11it/s]\n"
     ]
    },
    {
     "name": "stdout",
     "output_type": "stream",
     "text": [
      "Average Accuracy: 47.84%\n",
      "Epoch 14, Loss: 5.6136\n"
     ]
    },
    {
     "name": "stderr",
     "output_type": "stream",
     "text": [
      "43it [00:00, 134.67it/s]\n"
     ]
    },
    {
     "name": "stdout",
     "output_type": "stream",
     "text": [
      "Average Accuracy: 48.19%\n",
      "Epoch 15, Loss: 5.5977\n"
     ]
    },
    {
     "name": "stderr",
     "output_type": "stream",
     "text": [
      "43it [00:00, 163.38it/s]\n"
     ]
    },
    {
     "name": "stdout",
     "output_type": "stream",
     "text": [
      "Average Accuracy: 49.91%\n",
      "Epoch 16, Loss: 5.5880\n"
     ]
    },
    {
     "name": "stderr",
     "output_type": "stream",
     "text": [
      "43it [00:00, 162.94it/s]\n"
     ]
    },
    {
     "name": "stdout",
     "output_type": "stream",
     "text": [
      "Average Accuracy: 49.81%\n",
      "Epoch 17, Loss: 5.5907\n"
     ]
    },
    {
     "name": "stderr",
     "output_type": "stream",
     "text": [
      "43it [00:00, 141.27it/s]\n"
     ]
    },
    {
     "name": "stdout",
     "output_type": "stream",
     "text": [
      "Average Accuracy: 50.98%\n",
      "Epoch 18, Loss: 5.5858\n"
     ]
    },
    {
     "name": "stderr",
     "output_type": "stream",
     "text": [
      "43it [00:00, 161.80it/s]\n"
     ]
    },
    {
     "name": "stdout",
     "output_type": "stream",
     "text": [
      "Average Accuracy: 51.23%\n",
      "Epoch 19, Loss: 5.5781\n"
     ]
    },
    {
     "name": "stderr",
     "output_type": "stream",
     "text": [
      "43it [00:00, 168.32it/s]\n"
     ]
    },
    {
     "name": "stdout",
     "output_type": "stream",
     "text": [
      "Average Accuracy: 49.81%\n",
      "Epoch 20, Loss: 5.5897\n"
     ]
    },
    {
     "name": "stderr",
     "output_type": "stream",
     "text": [
      "43it [00:00, 162.04it/s]\n"
     ]
    },
    {
     "name": "stdout",
     "output_type": "stream",
     "text": [
      "Average Accuracy: 51.63%\n",
      "Epoch 21, Loss: 5.5746\n"
     ]
    },
    {
     "name": "stderr",
     "output_type": "stream",
     "text": [
      "43it [00:00, 133.68it/s]\n"
     ]
    },
    {
     "name": "stdout",
     "output_type": "stream",
     "text": [
      "Average Accuracy: 52.09%\n",
      "Epoch 22, Loss: 5.5753\n"
     ]
    },
    {
     "name": "stderr",
     "output_type": "stream",
     "text": [
      "43it [00:00, 138.30it/s]\n"
     ]
    },
    {
     "name": "stdout",
     "output_type": "stream",
     "text": [
      "Average Accuracy: 51.47%\n",
      "Epoch 23, Loss: 5.5722\n"
     ]
    },
    {
     "name": "stderr",
     "output_type": "stream",
     "text": [
      "43it [00:00, 131.34it/s]\n"
     ]
    },
    {
     "name": "stdout",
     "output_type": "stream",
     "text": [
      "Average Accuracy: 50.60%\n",
      "Epoch 24, Loss: 5.5823\n"
     ]
    },
    {
     "name": "stderr",
     "output_type": "stream",
     "text": [
      "43it [00:00, 142.29it/s]\n"
     ]
    },
    {
     "name": "stdout",
     "output_type": "stream",
     "text": [
      "Average Accuracy: 51.23%\n",
      "Epoch 25, Loss: 5.5764\n"
     ]
    },
    {
     "name": "stderr",
     "output_type": "stream",
     "text": [
      "43it [00:00, 146.26it/s]\n"
     ]
    },
    {
     "name": "stdout",
     "output_type": "stream",
     "text": [
      "Average Accuracy: 51.07%\n",
      "Epoch 26, Loss: 5.5756\n"
     ]
    },
    {
     "name": "stderr",
     "output_type": "stream",
     "text": [
      "43it [00:00, 163.79it/s]\n"
     ]
    },
    {
     "name": "stdout",
     "output_type": "stream",
     "text": [
      "Average Accuracy: 50.60%\n",
      "Epoch 27, Loss: 5.5739\n"
     ]
    },
    {
     "name": "stderr",
     "output_type": "stream",
     "text": [
      "43it [00:00, 162.61it/s]\n"
     ]
    },
    {
     "name": "stdout",
     "output_type": "stream",
     "text": [
      "Average Accuracy: 52.35%\n",
      "Epoch 28, Loss: 5.5619\n"
     ]
    },
    {
     "name": "stderr",
     "output_type": "stream",
     "text": [
      "43it [00:00, 143.77it/s]\n"
     ]
    },
    {
     "name": "stdout",
     "output_type": "stream",
     "text": [
      "Average Accuracy: 51.60%\n",
      "Epoch 29, Loss: 5.5726\n"
     ]
    },
    {
     "name": "stderr",
     "output_type": "stream",
     "text": [
      "43it [00:00, 138.65it/s]\n"
     ]
    },
    {
     "name": "stdout",
     "output_type": "stream",
     "text": [
      "Average Accuracy: 51.77%\n",
      "Epoch 30, Loss: 5.5690\n"
     ]
    },
    {
     "name": "stderr",
     "output_type": "stream",
     "text": [
      "43it [00:00, 158.02it/s]\n"
     ]
    },
    {
     "name": "stdout",
     "output_type": "stream",
     "text": [
      "Average Accuracy: 52.02%\n",
      "Epoch 31, Loss: 5.5748\n"
     ]
    },
    {
     "name": "stderr",
     "output_type": "stream",
     "text": [
      "43it [00:00, 156.83it/s]\n"
     ]
    },
    {
     "name": "stdout",
     "output_type": "stream",
     "text": [
      "Average Accuracy: 51.28%\n",
      "Epoch 32, Loss: 5.5705\n"
     ]
    },
    {
     "name": "stderr",
     "output_type": "stream",
     "text": [
      "43it [00:00, 141.22it/s]\n"
     ]
    },
    {
     "name": "stdout",
     "output_type": "stream",
     "text": [
      "Average Accuracy: 51.86%\n",
      "Epoch 33, Loss: 5.5675\n"
     ]
    },
    {
     "name": "stderr",
     "output_type": "stream",
     "text": [
      "43it [00:00, 169.26it/s]\n"
     ]
    },
    {
     "name": "stdout",
     "output_type": "stream",
     "text": [
      "Average Accuracy: 51.51%\n",
      "Epoch 34, Loss: 5.5693\n"
     ]
    },
    {
     "name": "stderr",
     "output_type": "stream",
     "text": [
      "43it [00:00, 169.65it/s]\n"
     ]
    },
    {
     "name": "stdout",
     "output_type": "stream",
     "text": [
      "Average Accuracy: 50.40%\n",
      "Epoch 35, Loss: 5.5803\n"
     ]
    },
    {
     "name": "stderr",
     "output_type": "stream",
     "text": [
      "43it [00:00, 154.50it/s]\n"
     ]
    },
    {
     "name": "stdout",
     "output_type": "stream",
     "text": [
      "Average Accuracy: 51.84%\n",
      "Epoch 36, Loss: 5.5712\n"
     ]
    },
    {
     "name": "stderr",
     "output_type": "stream",
     "text": [
      "43it [00:00, 139.21it/s]\n"
     ]
    },
    {
     "name": "stdout",
     "output_type": "stream",
     "text": [
      "Average Accuracy: 52.05%\n",
      "Epoch 37, Loss: 5.5651\n"
     ]
    },
    {
     "name": "stderr",
     "output_type": "stream",
     "text": [
      "43it [00:00, 143.75it/s]\n"
     ]
    },
    {
     "name": "stdout",
     "output_type": "stream",
     "text": [
      "Average Accuracy: 51.70%\n",
      "Epoch 38, Loss: 5.5655\n"
     ]
    },
    {
     "name": "stderr",
     "output_type": "stream",
     "text": [
      "43it [00:00, 160.23it/s]\n"
     ]
    },
    {
     "name": "stdout",
     "output_type": "stream",
     "text": [
      "Average Accuracy: 51.81%\n",
      "Epoch 39, Loss: 5.5683\n"
     ]
    },
    {
     "name": "stderr",
     "output_type": "stream",
     "text": [
      "43it [00:00, 154.80it/s]\n"
     ]
    },
    {
     "name": "stdout",
     "output_type": "stream",
     "text": [
      "Average Accuracy: 51.95%\n",
      "Epoch 40, Loss: 5.5682\n"
     ]
    },
    {
     "name": "stderr",
     "output_type": "stream",
     "text": [
      "43it [00:00, 165.63it/s]\n"
     ]
    },
    {
     "name": "stdout",
     "output_type": "stream",
     "text": [
      "Average Accuracy: 51.84%\n",
      "Epoch 41, Loss: 5.5714\n"
     ]
    },
    {
     "name": "stderr",
     "output_type": "stream",
     "text": [
      "43it [00:00, 140.23it/s]\n"
     ]
    },
    {
     "name": "stdout",
     "output_type": "stream",
     "text": [
      "Average Accuracy: 50.37%\n",
      "Epoch 42, Loss: 5.5744\n"
     ]
    },
    {
     "name": "stderr",
     "output_type": "stream",
     "text": [
      "43it [00:00, 142.04it/s]\n"
     ]
    },
    {
     "name": "stdout",
     "output_type": "stream",
     "text": [
      "Average Accuracy: 51.28%\n",
      "Epoch 43, Loss: 5.5760\n"
     ]
    },
    {
     "name": "stderr",
     "output_type": "stream",
     "text": [
      "43it [00:00, 110.99it/s]\n"
     ]
    },
    {
     "name": "stdout",
     "output_type": "stream",
     "text": [
      "Average Accuracy: 51.88%\n",
      "Epoch 44, Loss: 5.5639\n"
     ]
    },
    {
     "name": "stderr",
     "output_type": "stream",
     "text": [
      "43it [00:00, 106.14it/s]\n"
     ]
    },
    {
     "name": "stdout",
     "output_type": "stream",
     "text": [
      "Average Accuracy: 52.35%\n",
      "Epoch 45, Loss: 5.5616\n"
     ]
    },
    {
     "name": "stderr",
     "output_type": "stream",
     "text": [
      "43it [00:00, 101.58it/s]\n"
     ]
    },
    {
     "name": "stdout",
     "output_type": "stream",
     "text": [
      "Average Accuracy: 52.51%\n",
      "Epoch 46, Loss: 5.5618\n"
     ]
    },
    {
     "name": "stderr",
     "output_type": "stream",
     "text": [
      "43it [00:00, 104.21it/s]\n"
     ]
    },
    {
     "name": "stdout",
     "output_type": "stream",
     "text": [
      "Average Accuracy: 52.40%\n",
      "Epoch 47, Loss: 5.5641\n"
     ]
    },
    {
     "name": "stderr",
     "output_type": "stream",
     "text": [
      "43it [00:00, 84.11it/s]\n"
     ]
    },
    {
     "name": "stdout",
     "output_type": "stream",
     "text": [
      "Average Accuracy: 52.56%\n",
      "Epoch 48, Loss: 5.5595\n"
     ]
    },
    {
     "name": "stderr",
     "output_type": "stream",
     "text": [
      "43it [00:00, 99.24it/s] "
     ]
    },
    {
     "name": "stdout",
     "output_type": "stream",
     "text": [
      "Average Accuracy: 52.05%\n",
      "Epoch 49, Loss: 5.5647\n",
      "Test Accuracy: 0.5825\n"
     ]
    },
    {
     "name": "stderr",
     "output_type": "stream",
     "text": [
      "\n"
     ]
    }
   ],
   "source": [
    "fam_0 = FAM(797, 256, 0.3)\n",
    "proj_0 = Projection(256, 128)\n",
    "supcon_0 = SupConLoss()\n",
    "classifier_0 = Classifier(256, 3, 0.3)\n",
    "\n",
    "optimizer = torch.optim.Adam(list(fam_0.parameters()) + \n",
    "                             list(proj_0.parameters()) + \n",
    "                             list(classifier_0.parameters()), lr=0.001)\n",
    "classifier_loss = nn.CrossEntropyLoss()\n",
    "scheduler = torch.optim.lr_scheduler.StepLR(optimizer, step_size=20, gamma=0.5)\n",
    "\n",
    "# Training Loop\n",
    "for epoch in range(1, 50):\n",
    "    loss, acc = train(fam_0, proj_0, supcon_0, classifier_0, data_loader_0, optimizer, classifier_loss)  \n",
    "    print(f'Epoch {epoch}, Loss: {loss:.4f}')\n",
    "    scheduler.step()\n",
    "\n",
    "# Evaluation\n",
    "test_accuracy = evaluate(fam_0, classifier_0, data_loader_0_test)"
   ]
  },
  {
   "cell_type": "code",
   "execution_count": null,
   "id": "bc85f8f0-c25a-4c1f-83fb-58fcc407fddf",
   "metadata": {},
   "outputs": [],
   "source": [
    "# Model Instantiation\n",
    "fam_0 = FAM(797, 256, 0.3)\n",
    "proj_0 = Projection(256, 128)\n",
    "supcon_0 = SupConLoss()\n",
    "classifier_0 = Classifier(256, 3, 0.3)\n",
    "\n",
    "# Optimizer only for models with parameters\n",
    "optimizer = torch.optim.Adam(list(fam_0.parameters()) + \n",
    "                             list(proj_0.parameters()) + \n",
    "                             list(classifier_0.parameters()), lr=0.001)\n",
    "\n",
    "# Correct instantiation of CrossEntropyLoss\n",
    "classifier_loss = nn.CrossEntropyLoss()\n",
    "\n",
    "# Learning rate scheduler\n",
    "scheduler = torch.optim.lr_scheduler.StepLR(optimizer, step_size=20, gamma=0.5)\n",
    "\n",
    "# Training Loop\n",
    "for epoch in range(1, 50):\n",
    "    loss, acc = train(fam_0, proj_0, supcon_0, classifier_0, data_loader_0, optimizer, classifier_loss)  \n",
    "    print(f'Epoch {epoch}, Loss: {loss:.4f}')\n",
    "    scheduler.step()\n",
    "\n",
    "# Evaluation\n",
    "test_accuracy = evaluate(fam_0, classifier_0, data_loader_0_test)"
   ]
  },
  {
   "cell_type": "code",
   "execution_count": null,
   "id": "e0fc19da-d2c9-4085-910a-83d8b750ec5e",
   "metadata": {},
   "outputs": [],
   "source": [
    "fam_14 = FAM(797, 256, 0.3)\n",
    "proj_14 = Projection(256, 128)\n",
    "supcon_14 = SupConHead()\n",
    "classifier_14 = Classifier(256, 3, 0.3)\n",
    "optimizer = torch.optim.Adam(list(fam_14.parameters()) + \n",
    "                             list(proj_14.parameters()) + \n",
    "                             list(supcon_14.parameters()) + \n",
    "                             list(classifier_14.parameters()), lr=0.001)\n",
    "scheduler = torch.optim.lr_scheduler.StepLR(optimizer, step_size=20, gamma=0.5)\n",
    "for epoch in range(1, 20):\n",
    "    loss, acc = train(fam_14, proj_14, supcon_14, classifier_14, data_loader_14)  \n",
    "    print(f'Epoch {epoch}, Loss: {loss:.4f}')\n",
    "    scheduler.step()\n",
    "test_accuracy = evaluate(fam_14, proj_14, supcon_14, classifier_14, data_loader_14_test)"
   ]
  },
  {
   "cell_type": "code",
   "execution_count": null,
   "id": "c09e8bbf-59a2-492f-b222-fbdaa3a2e78c",
   "metadata": {},
   "outputs": [],
   "source": [
    "fam_all = FAM(768, 256, 0.3)\n",
    "proj_all = Projection(256, 128)\n",
    "supcon_all = SupConHead()\n",
    "classifier_all = Classifier(256, 3, 0.3)\n",
    "optimizer = torch.optim.Adam(list(fam_all.parameters()) + \n",
    "                             list(proj_all.parameters()) + \n",
    "                             list(supcon_all.parameters()) + \n",
    "                             list(classifier_all.parameters()), lr=0.001)\n",
    "scheduler = torch.optim.lr_scheduler.StepLR(optimizer, step_size=20, gamma=0.5)\n",
    "for epoch in range(1, 20):\n",
    "    loss, acc = train(fam_all, proj_all, supcon_all, classifier_all, data_loader_all)  \n",
    "    print(f'Epoch {epoch}, Loss: {loss:.4f}')\n",
    "    scheduler.step()\n",
    "test_accuracy = evaluate(fam_all, proj_all, supcon_all, classifier_all, data_loader_all_test)"
   ]
  },
  {
   "cell_type": "code",
   "execution_count": null,
   "id": "9e3e4158-694d-4ad3-a1c7-2a420fca4256",
   "metadata": {},
   "outputs": [],
   "source": []
  }
 ],
 "metadata": {
  "kernelspec": {
   "display_name": "Python 3 (ipykernel)",
   "language": "python",
   "name": "python3"
  },
  "language_info": {
   "codemirror_mode": {
    "name": "ipython",
    "version": 3
   },
   "file_extension": ".py",
   "mimetype": "text/x-python",
   "name": "python",
   "nbconvert_exporter": "python",
   "pygments_lexer": "ipython3",
   "version": "3.11.5"
  }
 },
 "nbformat": 4,
 "nbformat_minor": 5
}
